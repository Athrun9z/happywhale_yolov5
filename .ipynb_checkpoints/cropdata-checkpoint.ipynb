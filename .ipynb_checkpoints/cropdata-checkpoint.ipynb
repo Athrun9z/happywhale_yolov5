{
 "cells": [
  {
   "cell_type": "code",
   "execution_count": null,
   "id": "047648a0-1088-45c3-a03a-bb6ab8e0d6e4",
   "metadata": {},
   "outputs": [],
   "source": [
    "python yolov5/detect.py --weights 'yolov5/runs/train/exp5/weights/best.pt'"
   ]
  }
 ],
 "metadata": {
  "kernelspec": {
   "display_name": "Python 3 (ipykernel)",
   "language": "python",
   "name": "python3"
  },
  "language_info": {
   "codemirror_mode": {
    "name": "ipython",
    "version": 3
   },
   "file_extension": ".py",
   "mimetype": "text/x-python",
   "name": "python",
   "nbconvert_exporter": "python",
   "pygments_lexer": "ipython3",
   "version": "3.8.10"
  }
 },
 "nbformat": 4,
 "nbformat_minor": 5
}
